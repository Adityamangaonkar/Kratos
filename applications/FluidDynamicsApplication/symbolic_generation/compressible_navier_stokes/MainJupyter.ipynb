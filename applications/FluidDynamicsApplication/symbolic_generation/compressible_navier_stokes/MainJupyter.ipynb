{
 "cells": [
  {
   "cell_type": "markdown",
   "metadata": {},
   "source": [
    "# Variational multi-scale finite element solution of the compressible <b> \n",
    "# Navier-Stokes equations - Automatic Differentiation Formulation\n",
    "\n",
    "## <center>Elisa Magliozzi<center> \n",
    "\n",
    "### <center> *November 2017*<center>\n"
   ]
  },
  {
   "cell_type": "markdown",
   "metadata": {},
   "source": [
    "## List of Symbols"
   ]
  },
  {
   "cell_type": "code",
   "execution_count": 2,
   "metadata": {},
   "outputs": [],
   "source": [
    "from KratosMultiphysics import *\n",
    "\n",
    "from sympy import *\n",
    "from sympy_fe_utilities import *\n",
    "import pprint\n",
    "\n",
    "from params_dict import params\n",
    "import ConvectiveFlux\n",
    "import DiffusiveFlux\n",
    "import SourceTerm\n",
    "import StabilizationMatrix\n",
    "\n",
    "dim = params[\"dim\"]  \n",
    "dimes = dim+2 \t\t\t\t\t        # Dimension of the vector of Unknowns\n",
    "do_simplifications = False\n",
    "#dim_to_compute = \"Both\"                # Spatial dimensions to compute. Options:  \"2D\",\"3D\",\"Both\"\n",
    "mode = \"c\"                              # Output mode to a c++ file\n",
    "\n",
    "if(dim == 2):\n",
    "    nnodes = 3\n",
    "elif(dim == 3):\n",
    "    nnodes = 4\n",
    "\n",
    "impose_partion_of_unity = False\n",
    "N,DN = DefineShapeFunctions(nnodes, dim, impose_partion_of_unity)\n",
    "  \n",
    "# Unknown fields definition (Used later for the gauss point interpolation)\n",
    "U = DefineMatrix('U',nnodes,dimes)\t     # Vector of Unknowns ( Density,Velocity[dim],Total Energy )\n",
    "Un = DefineMatrix('Un',nnodes,dimes)     # Vector of Unknowns one step back\n",
    "Unn = DefineMatrix('Unn',nnodes,dimes)   # Vector of Unknowns two steps back\n",
    "r = DefineVector('r',nnodes)             # Sink term\n",
    "\n",
    "# Test functions defintiion\n",
    "w = DefineMatrix('w',nnodes,dimes)\t     # Variables field test\n",
    "\n",
    "# External terms definition\n",
    "f_ext = DefineMatrix('f_ext',nnodes,dim) # Forcing term \n",
    "\n",
    "# Definition of other symbols\n",
    "bdf0 = Symbol('bdf0')                    # Backward differantiation coefficients\n",
    "bdf1 = Symbol('bdf1')\n",
    "bdf2 = Symbol('bdf2')\n"
   ]
  },
  {
   "cell_type": "markdown",
   "metadata": {},
   "source": [
    "### 1. Compressible Navier-Stokes formulation\n",
    "\n",
    "A compressible fluid can be described using the equations of conservation of mass, momentum and energy, also known as Navier-Stokes equations. The equations described below are considering a Newtonian, viscous fluid."
   ]
  },
  {
   "cell_type": "markdown",
   "metadata": {},
   "source": [
    "1. Conservation of mass equation\n",
    "\n",
    "    \\begin{equation}\n",
    "    \\label{MassConserv}\n",
    "    \\frac{\\partial \\rho}{\\partial t} + \\nabla \\cdot (\\rho \\textbf{u})  = 0.\n",
    "    \\end{equation}\n",
    "\n",
    "2. Conservation of momentum equation\n",
    "\n",
    "    \\begin{equation}\n",
    "    \\label{MomentumCons}\n",
    "    \\frac{\\partial (\\rho \\mathbf{u})}{\\partial t} + \\nabla \\big(\\rho \\mathbf{u}\\big) \\mathbf{u} +\\nabla \\big(p\\mathbf{I}-\\mathbf{\\tau}\\big) = \\rho \\mathbf{f}\n",
    "    \\end{equation}\n",
    "    \n",
    "3. Conservation of energy equation\n",
    "\n",
    "    \\begin{equation}\n",
    "    \\label{EnergyCons}\n",
    "    \\frac{\\partial}{\\partial t} \\bigg(\\rho \\big( e + \\frac{1}{2}  \\mathbf{u}\\cdot\\mathbf{u}\\big)\\bigg) + \\nabla \\bigg(\\rho \\mathbf{u} \\big(\\mathbf{h}+\\frac{1}{2}\\mathbf{u}\\cdot\\mathbf{u}\\big) - \\mathbf{u}\\cdot \\mathbf{\\tau} + \\mathbf{q}\\bigg)= \\rho \\mathbf{f}\\cdot\\mathbf{u}+\\rho r\n",
    "    \\end{equation}\n",
    "    \n",
    "\n",
    "Where *$\\rho$* is the density, *p* is the pressure, * **u** * is the velocity, *$\\tau$* is the viscous stress tensor, * **f** * is the body force vector, *e* is the internal energy, *h* is the enthalpy, * **q** * is the heat flux vector and *r* is a heat soure/sink term. "
   ]
  },
  {
   "cell_type": "markdown",
   "metadata": {},
   "source": [
    "Now the equation is written in terms of the conservative variable *$\\rho$*, * **m** * , and *$e_{tot}$*   *$ = \\rho \\big( e + \\frac{1}{2}  \\mathbf{u}\\cdot\\mathbf{u}\\big)$*\n",
    "\n",
    "1. Conservation of mass equation\n",
    "\n",
    "    \\begin{equation}\n",
    "    \\label{MassConserv}\n",
    "    \\frac{\\partial \\rho}{\\partial t} + \\nabla \\cdot (\\textbf{m})  = 0.\n",
    "    \\end{equation}\n",
    "\n",
    "2. Conservation of momentum equation\n",
    "\n",
    "    \\begin{equation}\n",
    "    \\label{MomentumCons}\n",
    "    \\frac{\\partial (\\mathbf{m})}{\\partial t} + \\nabla \\cdot (\\mathbf{m}) \\frac{\\mathbf{m}}{\\rho} +\\nabla (p\\mathbf{I}-\\mathbf{\\tau}) = \\rho \\mathbf{f}\n",
    "    \\end{equation}\n",
    "    \n",
    "3. Conservation of energy equation\n",
    "\n",
    "    \\begin{equation}\n",
    "    \\label{EnergyCons}\n",
    "    \\frac{\\partial e_{tot}}{\\partial t} + \\nabla \\bigg((\\rho+e_{tot})\\frac{\\mathbf{m}}{\\rho} -\\frac{\\mathbf{m}}{\\rho}\\cdot\\mathbf{\\tau}+ \\mathbf{q}\\bigg)= \\mathbf{f}\\mathbf{m}+\\rho r\n",
    "    \\end{equation}\n",
    "    \n"
   ]
  },
  {
   "cell_type": "markdown",
   "metadata": {},
   "source": [
    "It is possible to group the Navier-Stokes equations in a system with the help of the Einstein summation, considering $\\mathbf{U} = (\\rho, \\mathbf{m}, e_{tot})^T$ as the vector of the conservative variables.\n",
    "\n",
    "\\begin{equation}\n",
    "    \\label{System}\n",
    "    \\frac{\\partial (\\mathbf{U})}{\\partial t} + \\frac{\\partial \\mathbf{F}_j (\\mathbf{U})}{\\partial x_j}+\\frac{\\partial \\mathbf{G}_j (\\mathbf{U})}{\\partial x_j}-\\mathbf{S}(\\mathbf{U}) = \\mathbf{0}, \\quad in \\quad \\Omega \\subset \\mathbb{R}^d, t>0,\n",
    "\\end{equation}\n",
    "\n",
    "\\begin{equation}  \n",
    "\\label{Dirichlet}\n",
    " \\textit{U}(\\mathbf{U}_g)=\\mathbf{U}_g,\\quad \\quad \\quad \\quad \\quad \\quad \\quad \\quad on\\quad \\Gamma_g,t>0,\n",
    " \\end{equation}\n",
    " \n",
    " \\begin{equation}\n",
    "     \\label{Neumann}\n",
    "     \\mathbf{F}_jn_j=\\mathbf{h}, \\quad \\quad \\quad \\quad \\quad \\quad \\quad \\quad\\quad \\quad on\\quad \\Gamma_n, t>0,\n",
    " \\end{equation}\n",
    " \n",
    " \\begin{equation}\n",
    "     \\label{InitialCond}\n",
    "     \\mathbf{U}=\\mathbf{U}_0(\\mathbf{x}), \\quad \\quad \\quad \\quad \\quad \\quad \\quad \\quad\\quad \\quad in\\quad \\Omega, t=0\n",
    " \\end{equation}\n",
    " \n",
    " The boundary conditions for the Dirichlet and Neumann boundaries are here introduced, together with the initial condition. "
   ]
  },
  {
   "cell_type": "code",
   "execution_count": 9,
   "metadata": {},
   "outputs": [],
   "source": [
    "### Construction of the variational equation\n",
    "\n",
    "Ug = DefineVector('Ug',dim+2)\t\t\t# Dofs vector\n",
    "H = DefineMatrix('H',dim+2,dim)\t\t\t# Gradient of U\n",
    "f = DefineVector('f',dim)\t\t\t    # Body force vector\n",
    "rg = Symbol('rg', positive = True)\t\t# Source/Sink term\n",
    "V = DefineVector('V',dim+2)\t\t\t    # Test function\n",
    "Q = DefineMatrix('Q',dim+2,dim)\t\t\t# Gradient of V\n",
    "acc = DefineVector('acc',dimes)         # Derivative of Dofs/Time\n"
   ]
  },
  {
   "cell_type": "markdown",
   "metadata": {},
   "source": [
    "The $\\textit{(d+2)*d}$ $\\textit{convective}$ flux matrix $\\mathbf{F}$ is:\n",
    "\n",
    "\\begin{equation}\n",
    "    \\label{Fmat}\n",
    "    \\mathbf{F}_j(\\mathbf{U}) = \\bigg(m_j,\\frac{m_j}{\\rho}m_i+p\\delta_{ij},(e_{tot}+p)\\frac{m_j}{\\rho}\\bigg)^T \\quad \\quad 1\\leq{i},j\\leq{d}\n",
    "\\end{equation}\n",
    "\n",
    "From this it is possible to derive the $\\textit{(d+2)*(d+2)*d}$ Euler Jacobian matrix $\\mathbf{A}_j$.\n",
    "\n",
    "\\begin{equation}\n",
    "    \\label{DiffAmat}\n",
    "    \\frac{\\partial \\mathbf{F}_j(\\mathbf{U})}{\\partial x_j}=\\mathbf{A}_j(\\mathbf{U})\\frac{\\partial \\mathbf{U}}{\\partial x_j}\n",
    "\\end{equation}\n",
    "and so\n",
    "\n",
    "\n",
    "\\begin{equation}\n",
    "    \\label{Amatr}\n",
    "    \\mathbf{A}_j(\\mathbf{U}) = \\frac{\\partial\\mathbf{F}_j(\\mathbf{U})}{\\partial \\mathbf{U}}\n",
    "\\end{equation}\n",
    "\n"
   ]
  },
  {
   "cell_type": "code",
   "execution_count": 11,
   "metadata": {},
   "outputs": [
    {
     "name": "stdout",
     "output_type": "stream",
     "text": [
      "\n",
      "Compute Convective Matrix \n",
      "\n"
     ]
    }
   ],
   "source": [
    "A = ConvectiveFlux.computeA(Ug,params)\n",
    "#ConvectiveFlux.printA(A,params)"
   ]
  },
  {
   "cell_type": "code",
   "execution_count": 35,
   "metadata": {},
   "outputs": [],
   "source": [
    "## How the Convective Flux Matrix has been implemented:\n",
    "\n",
    "%run 'ConvectiveFlux.ipynb'"
   ]
  },
  {
   "cell_type": "markdown",
   "metadata": {},
   "source": [
    "The $\\textit{(d+2)*d diffusive}$ flux matrix $\\mathbf{G}$ is defined as follow.\n",
    "\n",
    "\\begin{equation}\n",
    "    \\label{Gmat}\n",
    "    \\mathbf{G}_j(\\mathbf{U}) = \\big(0,-\\tau_{ji}, -\\frac{m_i}{\\rho}\\tau_{ij}+q_j\\big)^T \\quad \\quad 1\\leq{i},j\\leq{d}\n",
    "\\end{equation}\n",
    "\n",
    "The diffusive matrix $\\mathbf{K}_{kj}(\\mathbf{U})$ is a fourth order tensor of dimension $\\textit{(d+2)*(d+2)*d*d}$ and can be derived from the expression below.\n",
    "\n",
    "\\begin{equation}\n",
    "    \\label{K}\n",
    "    \\frac{\\partial\\mathbf{G}_j(\\mathbf{U})}{\\partial x_j} = -\\frac{\\partial}{\\partial x_k}\\bigg(\\mathbf{K}_{kj}(\\mathbf{U})\\frac{\\partial \\mathbf{U}}{\\partial x_j}\\bigg)\n",
    "\\end{equation}\n",
    "\n"
   ]
  },
  {
   "cell_type": "code",
   "execution_count": 12,
   "metadata": {},
   "outputs": [
    {
     "name": "stdout",
     "output_type": "stream",
     "text": [
      "\n",
      "Compute Diffusive Matrix\n",
      "\n"
     ]
    }
   ],
   "source": [
    "K = DiffusiveFlux.computeK(Ug,params)\n",
    "#DiffusiveFlux.printK(K,params)"
   ]
  },
  {
   "cell_type": "code",
   "execution_count": 37,
   "metadata": {},
   "outputs": [],
   "source": [
    "## How the Convective Flux Matrix has been implemented:\n",
    "\n",
    "%run 'DiffusiveFlux.ipynb'"
   ]
  },
  {
   "cell_type": "markdown",
   "metadata": {},
   "source": [
    "The $\\textit{source}$ term vector $\\mathbf{S(\\mathbf{U})}$ is written as a product of a $\\textit{(d+2)*(d+2)}$ reactive matrix $\\mathbf{S}$ and the vector of unknowns.\n",
    "\n",
    "\\begin{equation}\n",
    "    \\label{S(U)}\n",
    "    \\mathbf{S}(\\mathbf{U}) = (0,\\rho\\mathbf{f},\\mathbf{f}\\cdot\\mathbf{m}+\\rho r)^T\n",
    "\\end{equation}\n",
    "\n",
    "\\begin{equation}\n",
    "    \\label{S}\n",
    "    \\mathbf{S}=\n",
    "    \\begin{pmatrix} 0 & 0 & 0\\\\ \\mathbf{f} & 0 & 0 \\\\ r &\\mathbf{f}^T &0 \\end{pmatrix}\n",
    "\\end{equation}"
   ]
  },
  {
   "cell_type": "code",
   "execution_count": 14,
   "metadata": {},
   "outputs": [
    {
     "name": "stdout",
     "output_type": "stream",
     "text": [
      "\n",
      "Compute Source Matrix \n",
      "\n"
     ]
    }
   ],
   "source": [
    "S = SourceTerm.computeS(f,rg,params)\n",
    "#SourceTerm.printS(S,params)"
   ]
  },
  {
   "cell_type": "markdown",
   "metadata": {
    "scrolled": true
   },
   "source": [
    "The problem can be rewritten using  the nonlinear operator $\\mathbf{\\textit{L}}(\\mathbf{U};\\mathbf{U})$ as below.\n",
    "\n",
    "\n",
    "\\begin{equation}\n",
    "    \\label{system2}\n",
    "    \\frac{\\partial \\mathbf{U}}{\\partial t} + \\mathbf{\\textit{L}}(\\mathbf{U} ; \\mathbf{U}) = \\mathbf{0}, \\quad in \\quad \\Omega \\subset \\mathbb{R}^d, t>0,\n",
    "\\end{equation}\n",
    "\n",
    "\\begin{equation}  \n",
    "\\label{Dirichlet}\n",
    " \\textit{U}(\\mathbf{U}_g)=\\mathbf{U}_g,\\quad \\quad \\quad \\quad \\quad \\quad \\quad \\quad on\\quad \\Gamma_g,t>0,\n",
    " \\end{equation}\n",
    " \n",
    " \\begin{equation}\n",
    "     \\label{Neumann}\n",
    "     \\mathbf{F}_jn_j=\\mathbf{h}, \\quad \\quad \\quad \\quad \\quad \\quad \\quad \\quad\\quad \\quad on\\quad \\Gamma_n, t>0,\n",
    " \\end{equation}\n",
    " \n",
    " \\begin{equation}\n",
    "     \\label{InitialCond}\n",
    "     \\mathbf{U}=\\mathbf{U}_0(\\mathbf{x}), \\quad \\quad \\quad \\quad \\quad \\quad \\quad \\quad\\quad \\quad in\\quad \\Omega, t=0\n",
    " \\end{equation}\n",
    "Where $\\mathbf{\\textit{L}}$ is define as here.\n",
    "\n",
    "\\begin{equation}\n",
    "    \\label{L}\n",
    "    \\mathbf{\\textit{L}}(\\mathbf{U};\\mathbf{U}) = \\mathbf{A}_j\\frac{\\partial \\mathbf{U}}{\\partial x_j}- \\frac{\\partial}{\\partial x_k}\\bigg(\\mathbf{K}_{kj}(\\mathbf{U})\\frac{\\partial \\mathbf{U}}{\\partial x_j}\\bigg) -\\mathbf{S} \\mathbf{U}\n",
    "\\end{equation}\n"
   ]
  },
  {
   "cell_type": "code",
   "execution_count": 16,
   "metadata": {},
   "outputs": [],
   "source": [
    "## Nonlinear operator definition\n",
    "L = DefineVector('L',dim+2)\t\t       # Nonlinear operator\n",
    "res = DefineVector('res',dim+2)\t\t   # Residual definition\n",
    "\n",
    "l1 = Matrix(zeros(dim+2,1))\t\t       # Convective Matrix*Gradient of U\n",
    "tmp = []\n",
    "for j in range(0,dim):\n",
    "    tmp = A[j]*H[:,j]\n",
    "    l1 +=tmp\n",
    "\n",
    "l2 = Matrix(zeros(dim+2,1))\t\t       # Diffusive term\n",
    "\n",
    "for s in range(0,dim+2):\n",
    "    for k in range(0,dim):\n",
    "        kinter = K[k]\t\t\t       # Intermediate matrix\n",
    "        for j in range(0,dim):\n",
    "            ksmall = kinter[j]\t\t   # Intermediate 2 matrix\n",
    "            for l in range(0,dim+2):\n",
    "                for m in range(0,dim+2):\n",
    "                    for n in range(0,dim+2):\n",
    "                        l2[s] += diff(ksmall[l,m],Ug[n])*H[n,k]*H[s,j]\n",
    "                        #print(\"l\",l,\"m\",m,\"n\",n,\":\\n\",l2[s],\"\\n\\n\\n\\n\\n\\n\"\n",
    "\n",
    "l3 = S*Ug\t\t\t\t               # Source term\n",
    "L = l1-l2-l3"
   ]
  },
  {
   "cell_type": "markdown",
   "metadata": {},
   "source": [
    "### 2. Approximation of the subscales \n",
    "\n",
    "The finite element space is subdivided into a coarse and a fine subgrid space.<br>\n",
    " <center>$\\mathbf{V} = \\mathbf{V}_h+\\widetilde{\\mathbf{V}}, \\quad \\mathbf{V}_h \\subset \\textit{W}_h$</center>                    \n",
    "In the same way, the $\\mathbf{U}$ vector is decomposed in: <br>\n",
    "<center>$ \\mathbf{U} = \\mathbf{U}_h + \\widetilde{\\mathbf{U}}, \\quad \\mathbf{U} \\in \\textit{W}$<center><br>\n",
    "\n",
    "In order to understand the final formulation of the variational problem we need to define the nonlinear adjoint operator $\\mathbf{\\textit{L}^{*}}(\\mathbf{U};\\mathbf{V}_h)$ and the finite element residual $\\mathbf{R}(\\mathbf{U};\\mathbf{U}_h)$, together with the stabilization matrix $\\mathbf{\\tau}$.\n",
    "    \n",
    "The nonlinear adjoint operator $\\mathbf{\\textit{L}^{*}}$ is here applied to the test functions vector $\\mathbf{V}_h$.\n",
    "\n",
    "\\begin{equation}\n",
    "    \\label{Nonlinoper}\n",
    "    \\mathbf{\\textit{L}^{*}}(\\mathbf{U};\\mathbf{V}_h) =-\\frac{\\partial}{\\partial x_j}\\bigg(\\mathbf{A}_j^{T}(\\mathbf{U})\\mathbf{V}_h\\bigg) - \\frac{\\partial}{\\partial x_j} \\bigg(\\mathbf{K}_{kj}^{T}(\\mathbf{U})\\frac{\\partial \\mathbf{V}_h}{\\partial x_k}\\bigg) - \\mathbf{S}^T \\mathbf{V}_h\n",
    "\\end{equation}"
   ]
  },
  {
   "cell_type": "code",
   "execution_count": 17,
   "metadata": {},
   "outputs": [],
   "source": [
    "## Nonlinear adjoint operator definition\n",
    "L_adj = DefineVector('L_adj',dim+2)\t   # Nonlinear adjoint operator\n",
    "\n",
    "m1 = Matrix(zeros(dim+2,1))\t\t       # Convective term\n",
    "for s in range(0,dim+2):\n",
    "    for j in range(0,dim):\n",
    "        A_T = A[j].transpose()\n",
    "        for l in range(0,dim+2):\n",
    "            for m in range(0,dim+2):\n",
    "                m1[s] -= A_T[l,m]*Q[s,j]\n",
    "                for n in range(0,dim+2):\n",
    "                    m1[s] -= diff(A_T[l,m],Ug[n])*H[n,j]*V[s]\n",
    "                  \n",
    "m2 = Matrix(zeros(dim+2,1))\t\t       # Diffusive term\n",
    "\n",
    "for s in range(0,dim+2):\n",
    "    for k in range(0,dim):\n",
    "        kinter = K[k]\n",
    "        for j in range(0,dim):\n",
    "            ksmall = kinter[j].transpose()\n",
    "            for l in range(0,dim+2):\n",
    "                for m in range(0,dim+2):\n",
    "                    for n in range(0,dim+2):\n",
    "                        m2[s] -= diff(ksmall[l,m],Ug[n])*H[n,j]*Q[s,k]\n",
    "\n",
    "m3 = -S.transpose()*V\t\t\t        # Source term\n",
    "L_adj = m1+m2+m3"
   ]
  },
  {
   "cell_type": "markdown",
   "metadata": {},
   "source": [
    "The finite element residual is:\n",
    "\\begin{equation}\n",
    "    \\label{R}\n",
    "    \\mathbf{R}(\\mathbf{U};\\mathbf{U_h}) = -\\frac{\\partial \\mathbf{U}_h}{\\partial t}-\\mathbf{\\textit{L}}(\\mathbf{U};\\mathbf{U}_h)\n",
    "\\end{equation}"
   ]
  },
  {
   "cell_type": "code",
   "execution_count": 18,
   "metadata": {},
   "outputs": [],
   "source": [
    "## Redisual definition\n",
    "res = -acc - L\t\t"
   ]
  },
  {
   "cell_type": "markdown",
   "metadata": {},
   "source": [
    "The stabilization matrix $\\mathbf{\\tau}$ is a $\\textit{(d+2)*(d+2)}$ diagonal matrix defined like this:<br>\n",
    "<br>\n",
    "\\begin{equation}\n",
    "    \\label{tau}\n",
    "    \\boldsymbol{\\tau}^{-1} = diag \\big(\\tau^{-1}_1,\\tau^{-1}_2\\mathbf{I}_d,\\tau^{-1}_3 \\big)  \\\\\n",
    "    \\tau^{-1}_1 = \\textit{c}_2 \\frac{\\lvert {\\frac{\\mathbf{m}} {\\rho}}\\rvert +c}{\\textit{h}} \\\\\n",
    "    \\tau^{-1}_2 = \\textit{c}_1 \\frac{\\nu}{\\textit{h}^2} +\\textit{c}_2 \\frac{\\lvert {\\frac{\\mathbf{m}} {\\rho}}\\rvert +c}{\\textit{h}} \\\\\n",
    "    \\tau^{-1}_3 = \\textit{c}_1 \\frac{\\lambda}{\\rho \\textit{c}_p \\textit{h}^2} +\\textit{c}_2 \\frac{\\lvert {\\frac{\\mathbf{m}} {\\rho}}\\rvert +c}{\\textit{h}} \\\\\n",
    "\\end{equation}\n",
    "\n",
    "Where $\\textit{c}$ is the speed of sound, while $\\textit{c}_1$ and $\\textit{c}_2$ are algorithm constants (here $\\textit{c}_1$ = 4 and $\\textit{c}_2$ = 2\n"
   ]
  },
  {
   "cell_type": "code",
   "execution_count": 19,
   "metadata": {},
   "outputs": [
    {
     "name": "stdout",
     "output_type": "stream",
     "text": [
      "\n",
      "Compute Stabilization Matrix\n",
      "\n"
     ]
    }
   ],
   "source": [
    "Tau = StabilizationMatrix.computeTau(Ug,params)\n",
    "#StabilizationMatrix.printTau(Tau,params)"
   ]
  },
  {
   "cell_type": "markdown",
   "metadata": {},
   "source": [
    "Finally the problem can be described using the equation below.\n",
    "\n",
    "\\begin{equation}\n",
    "    \\label{final}\n",
    "    \\bigg(\\mathbf{V}_h,\\frac{\\partial \\mathbf{U}_h}{\\partial t}\\bigg) + \\bigg(\\mathbf{V}_h,\\mathbf{A}_j(\\mathbf{U}_h)\\frac{\\partial \\mathbf{U}_h}{\\partial x_j}\\bigg) + \\bigg(\\mathbf{V}_h,\\mathbf{K}_{kj}(\\mathbf{U}_h)\\frac{\\partial \\mathbf{U}_h}{\\partial x_j}\\bigg) - \\bigg(\\mathbf{V}_h,\\mathbf{S} \\mathbf{U}_h\\bigg) + \\sum_{K} \\bigg\\langle \\mathbf{\\textit{L}^{*}}(\\mathbf{U}_h;\\mathbf{V}_h),\n",
    "    \\boldsymbol{\\tau} (\\mathbf{U}_h) \\mathbf{R}(\\mathbf{U}_h) \\bigg\\rangle_K = 0 \\quad \\forall \\mathbf{V}_h \\in  \\textit{W}\n",
    "\\end{equation}"
   ]
  },
  {
   "cell_type": "code",
   "execution_count": 20,
   "metadata": {},
   "outputs": [],
   "source": [
    "## Variational Formulation - Final equation\n",
    "\n",
    "n1 = V.transpose()*acc\t\t            # Mass term - FE scale\n",
    "\n",
    "for i in range(0,dim):\n",
    "    tmp += A[i]*H[:,i]\n",
    "n2 = V.transpose()*tmp\t\t\t       # Convective term - FE scale\n",
    "\n",
    "tmp = Matrix(zeros(dim+2,1))\n",
    "n3 = Matrix(zeros(1,1))\t\t\t       # Diffusive term - FE scale\n",
    "for k in range(0,dim):\n",
    "    kinter= K[k]\n",
    "    for j in range(0,dim):\n",
    "        tmp += kinter[j]*H[:,j] \n",
    "    n3 += Q[:,k].transpose()*tmp\n",
    "\n",
    "n4 = -V.transpose()*(S*Ug)\t\t       # Source term - FE scale\n",
    "\n",
    "n5 = L_adj.transpose()*(Tau*res)\t   # VMS_adjoint - Subscales\n",
    "\n",
    "rv = n1+n2+n3+n4+n5 \t\t\t       # VARIATIONAL FORMULATION - FINAL EQUATION"
   ]
  },
  {
   "cell_type": "code",
   "execution_count": null,
   "metadata": {},
   "outputs": [],
   "source": [
    "### Substitution of the discretized values at the gauss points\n",
    "\n",
    "## Data interpolation at the gauss points\n",
    "U_gauss = U.transpose()*N\n",
    "w_gauss = w.transpose()*N\n",
    "f_gauss = f_ext.transpose()*N\n",
    "acc_gauss = (bdf0*U+bdf1*Un+bdf2*Unn).transpose()*N\n",
    "r_gauss = (r.transpose()*N)[0]      \n",
    "\n",
    "## Gradients computation\n",
    "grad_U = DfjDxi(DN,U).transpose()\n",
    "grad_w = DfjDxi(DN,w).transpose()\n",
    "\n",
    "SubstituteMatrixValue(rv, Ug, U_gauss)\n",
    "SubstituteMatrixValue(rv, acc, acc_gauss)\n",
    "SubstituteMatrixValue(rv, H, grad_U)\n",
    "SubstituteMatrixValue(rv, V, w_gauss)\n",
    "SubstituteMatrixValue(rv, Q, grad_w)\n",
    "SubstituteMatrixValue(rv, f, f_gauss)\n",
    "SubstituteScalarValue(rv, rg, r_gauss)"
   ]
  },
  {
   "cell_type": "code",
   "execution_count": 3,
   "metadata": {},
   "outputs": [
    {
     "ename": "NameError",
     "evalue": "name 'rv' is not defined",
     "output_type": "error",
     "traceback": [
      "\u001b[0;31m---------------------------------------------------------------------------\u001b[0m",
      "\u001b[0;31mNameError\u001b[0m                                 Traceback (most recent call last)",
      "\u001b[0;32m<ipython-input-3-fda4f875f1d9>\u001b[0m in \u001b[0;36m<module>\u001b[0;34m()\u001b[0m\n\u001b[0;32m----> 1\u001b[0;31m \u001b[0mrhs\u001b[0m \u001b[0;34m=\u001b[0m \u001b[0mCompute_RHS\u001b[0m\u001b[0;34m(\u001b[0m\u001b[0mrv\u001b[0m\u001b[0;34m.\u001b[0m\u001b[0mcopy\u001b[0m\u001b[0;34m(\u001b[0m\u001b[0;34m)\u001b[0m\u001b[0;34m,\u001b[0m \u001b[0mw\u001b[0m\u001b[0;34m,\u001b[0m \u001b[0mdo_simplifications\u001b[0m\u001b[0;34m)\u001b[0m\u001b[0;34m\u001b[0m\u001b[0m\n\u001b[0m\u001b[1;32m      2\u001b[0m \u001b[0mrhs_out\u001b[0m \u001b[0;34m=\u001b[0m \u001b[0mOutputVector_CollectingFactors\u001b[0m\u001b[0;34m(\u001b[0m\u001b[0mrhs\u001b[0m\u001b[0;34m,\u001b[0m \u001b[0;34m\"rhs\"\u001b[0m\u001b[0;34m,\u001b[0m \u001b[0;34m\"c\"\u001b[0m\u001b[0;34m)\u001b[0m\u001b[0;34m\u001b[0m\u001b[0m\n\u001b[1;32m      3\u001b[0m \u001b[0;34m\u001b[0m\u001b[0m\n\u001b[1;32m      4\u001b[0m \u001b[0mlhs\u001b[0m \u001b[0;34m=\u001b[0m \u001b[0mCompute_LHS\u001b[0m\u001b[0;34m(\u001b[0m\u001b[0mrhs\u001b[0m\u001b[0;34m,\u001b[0m \u001b[0mw\u001b[0m\u001b[0;34m,\u001b[0m \u001b[0mU\u001b[0m\u001b[0;34m,\u001b[0m \u001b[0mdo_simplifications\u001b[0m\u001b[0;34m)\u001b[0m \u001b[0;31m# Compute the LHS\u001b[0m\u001b[0;34m\u001b[0m\u001b[0m\n\u001b[1;32m      5\u001b[0m \u001b[0mlhs_out\u001b[0m \u001b[0;34m=\u001b[0m \u001b[0mOutputMatrix_CollectingFactors\u001b[0m\u001b[0;34m(\u001b[0m\u001b[0mlhs\u001b[0m\u001b[0;34m,\u001b[0m \u001b[0;34m\"lhs\"\u001b[0m\u001b[0;34m,\u001b[0m \u001b[0mmode\u001b[0m\u001b[0;34m)\u001b[0m\u001b[0;34m\u001b[0m\u001b[0m\n",
      "\u001b[0;31mNameError\u001b[0m: name 'rv' is not defined"
     ]
    }
   ],
   "source": [
    "rhs = Compute_RHS(rv.copy(), w, do_simplifications)\n",
    "rhs_out = OutputVector_CollectingFactors(rhs, \"rhs\", \"c\")\n",
    "\n",
    "lhs = Compute_LHS(rhs, w, U, do_simplifications) # Compute the LHS\n",
    "lhs_out = OutputMatrix_CollectingFactors(lhs, \"lhs\", mode)"
   ]
  },
  {
   "cell_type": "code",
   "execution_count": null,
   "metadata": {},
   "outputs": [],
   "source": [
    "'''\n",
    "# WRITING TEMPLATE FILE\n",
    "templatefile = open(\"compressible_navier_stokes_cpp_template.cpp\")\n",
    "outstring=templatefile.read()\n",
    "\n",
    "outstring = outstring.replace(\"//substitute_lhs_2D\", \"HO LETTO\")\n",
    "\n",
    "out = open(\"compr_navier_stokes.cpp\",'w')\n",
    "out.write(outstring)\n",
    "out.close()\n",
    "\n",
    "\n",
    "if(dim == 2):\n",
    "        outstring = outstring.replace(\"//substitute_lhs_2D\", lhs_out)\n",
    "        outstring = outstring.replace(\"//substitute_rhs_2D\", rhs_out)\n",
    "elif(dim == 3):\n",
    "        outstring = outstring.replace(\"//substitute_lhs_3D\", lhs_out)\n",
    "        outstring = outstring.replace(\"//substitute_rhs_3D\", rhs_out)\n",
    "\n",
    "## Write the modified template\n",
    "out = open(\"compressible_navier_stokes.cpp\",'w')\n",
    "out.write(outstring)\n",
    "out.close()\n",
    "'''"
   ]
  }
 ],
 "metadata": {
  "kernelspec": {
   "display_name": "Python 3",
   "language": "python",
   "name": "python3"
  },
  "language_info": {
   "codemirror_mode": {
    "name": "ipython",
    "version": 3
   },
   "file_extension": ".py",
   "mimetype": "text/x-python",
   "name": "python",
   "nbconvert_exporter": "python",
   "pygments_lexer": "ipython3",
   "version": "3.5.2"
  }
 },
 "nbformat": 4,
 "nbformat_minor": 2
}
